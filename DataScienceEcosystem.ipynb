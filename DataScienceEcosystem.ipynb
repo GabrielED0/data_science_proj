{
 "cells": [
  {
   "cell_type": "markdown",
   "id": "b6b236a5-c6e5-4d57-b55a-b69c8a5a9e63",
   "metadata": {},
   "source": [
    "# Data Science Tools and Ecosystem"
   ]
  },
  {
   "cell_type": "markdown",
   "id": "ef2556b9-4291-4875-82b4-5f9d8796989e",
   "metadata": {},
   "source": [
    "In this notebook, Data Science Tools and Ecosystem are summarized."
   ]
  },
  {
   "cell_type": "markdown",
   "id": "0aabd905-ad4d-413a-a37a-d5202ac0af77",
   "metadata": {},
   "source": [
    "__Objectives:__\n",
    "\n",
    "* Lists of popular programming languages used in Data Science\n",
    "* Examples of some commonly used libraries used by Data Scientists\n",
    "* List of open sources tools used for Data Science\n"
   ]
  },
  {
   "cell_type": "markdown",
   "id": "93782622-a5d1-40ab-b550-4398cf5a3577",
   "metadata": {},
   "source": [
    "Some of the popular languages that Data Scientists use are:\n",
    "\n",
    "1. Python\n",
    "2. R Programming\n",
    "3. Java\n",
    "3. Julia\n",
    "4. Scala"
   ]
  },
  {
   "cell_type": "markdown",
   "id": "0b7fd924-6d14-4c36-927d-02315dd25cf1",
   "metadata": {},
   "source": [
    "Some of the commonly used libraries used by Data Scientists include:\n",
    "\n",
    "1. Pandas\n",
    "2. NumPy\n",
    "3. Scikit-learn\n",
    "4. TensorFlow\n",
    "5. Keras"
   ]
  },
  {
   "cell_type": "markdown",
   "id": "bc7ee376-452f-4529-a98b-a56226cc669c",
   "metadata": {},
   "source": [
    "| Data Science Tools |\n",
    "|--------------------|\n",
    "| Jupyter Notebook   |\n",
    "|     RStudio        |\n",
    "|  Apache Zeppelin   |"
   ]
  },
  {
   "cell_type": "markdown",
   "id": "7d6d9b34-5b6d-4a49-b7e3-ea0fd1d95d31",
   "metadata": {},
   "source": [
    "### Below are a few examples of evaluating arithmetic expressions in Python"
   ]
  },
  {
   "cell_type": "code",
   "execution_count": 1,
   "id": "ebeaa6ff-c141-4125-bcb2-b4bab97302f3",
   "metadata": {
    "tags": []
   },
   "outputs": [
    {
     "data": {
      "text/plain": [
       "17"
      ]
     },
     "execution_count": 1,
     "metadata": {},
     "output_type": "execute_result"
    }
   ],
   "source": [
    "# This a simple arithmetic expression to mutiply then add integers\n",
    "\n",
    "(3*4)+5"
   ]
  },
  {
   "cell_type": "code",
   "execution_count": 10,
   "id": "55b9e806-6a49-4c04-b561-196777f2a165",
   "metadata": {
    "tags": []
   },
   "outputs": [
    {
     "name": "stdout",
     "output_type": "stream",
     "text": [
      "200 minutes equals 3.33 hours.\n"
     ]
    }
   ],
   "source": [
    "# This will convert 200 minutes to hours by diving by 60\n",
    "\n",
    "time_in_minutes = 200\n",
    "hour = 60\n",
    "time_in_hours = time_in_minutes / hour\n",
    "print(f\"{time_in_minutes} minutes equals {round(time_in_hours, 2)} hours.\")\n"
   ]
  },
  {
   "cell_type": "markdown",
   "id": "615c1849-4fb5-43c6-925a-710b23889fea",
   "metadata": {},
   "source": [
    "## Author: \n",
    "\n",
    "Gabriel\n"
   ]
  },
  {
   "cell_type": "code",
   "execution_count": null,
   "id": "1c0a8d1e-205a-4df0-8b25-3d81c6c91f57",
   "metadata": {},
   "outputs": [],
   "source": []
  }
 ],
 "metadata": {
  "kernelspec": {
   "display_name": "Python",
   "language": "python",
   "name": "conda-env-python-py"
  },
  "language_info": {
   "codemirror_mode": {
    "name": "ipython",
    "version": 3
   },
   "file_extension": ".py",
   "mimetype": "text/x-python",
   "name": "python",
   "nbconvert_exporter": "python",
   "pygments_lexer": "ipython3",
   "version": "3.7.12"
  }
 },
 "nbformat": 4,
 "nbformat_minor": 5
}
